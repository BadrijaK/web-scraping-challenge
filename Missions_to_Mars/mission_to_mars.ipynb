{
 "cells": [
  {
   "cell_type": "code",
   "execution_count": 8,
   "metadata": {},
   "outputs": [],
   "source": [
    "from bs4 import BeautifulSoup as bs\n",
    "import pandas as pd\n",
    "from webdriver_manager.chrome import ChromeDriverManager\n",
    "from splinter import Browser\n",
    "import json"
   ]
  },
  {
   "cell_type": "code",
   "execution_count": 9,
   "metadata": {},
   "outputs": [],
   "source": [
    "executable_path = {'executable_path': ChromeDriverManager().install()}\n",
    "browser = Browser('chrome', **executable_path, headless=False)"
   ]
  },
  {
   "cell_type": "code",
   "execution_count": 10,
   "metadata": {},
   "outputs": [],
   "source": [
    "url = 'https://redplanetscience.com/'\n",
    "browser.visit(url)"
   ]
  },
  {
   "cell_type": "code",
   "execution_count": 11,
   "metadata": {},
   "outputs": [],
   "source": [
    "html = browser.html\n",
    "soup = bs(html, 'html.parser')"
   ]
  },
  {
   "cell_type": "code",
   "execution_count": 12,
   "metadata": {},
   "outputs": [],
   "source": [
    "results = soup.find_all('div', class_='list_text')"
   ]
  },
  {
   "cell_type": "code",
   "execution_count": 13,
   "metadata": {},
   "outputs": [],
   "source": [
    "title_list = []\n",
    "preview_list = []"
   ]
  },
  {
   "cell_type": "code",
   "execution_count": 15,
   "metadata": {},
   "outputs": [
    {
     "name": "stdout",
     "output_type": "stream",
     "text": [
      "-------------\n",
      "title: 8 Martian Postcards to Celebrate Curiosity's Landing Anniversary\n",
      "preview: The NASA rover touched down eight years ago, on Aug. 5, 2012, and will soon be joined by a second rover, Perseverance.\n",
      "-------------\n",
      "-------------\n",
      "title: NASA's Push to Save the Mars InSight Lander's Heat Probe\n",
      "preview: The scoop on the end of the spacecraft's robotic arm will be used to 'pin' the mole against the wall of its hole.\n",
      "-------------\n",
      "-------------\n",
      "title: NASA's Perseverance Rover Will Peer Beneath Mars' Surface \n",
      "preview: The agency's newest rover will use the first ground-penetrating radar instrument on the Martian surface to help search for signs of past microbial life. \n",
      "-------------\n",
      "-------------\n",
      "title: NASA's Perseverance Rover Will Carry First Spacesuit Materials to Mars\n",
      "preview: In a Q&A, spacesuit designer Amy Ross explains how five samples, including a piece of helmet visor, will be tested aboard the rover, which is targeting a July 30 launch. \n",
      "-------------\n",
      "-------------\n",
      "title: NASA Perseverance Mars Rover Scientists Train in the Nevada Desert\n",
      "preview: Team members searched for signs of ancient microscopic life there, just as NASA's latest rover will on the Red Planet next year.\n",
      "-------------\n",
      "-------------\n",
      "title: NASA Readies Perseverance Mars Rover's Earthly Twin \n",
      "preview: Did you know NASA's next Mars rover has a nearly identical sibling on Earth for testing? Even better, it's about to roll for the first time through a replica Martian landscape.\n",
      "-------------\n",
      "-------------\n",
      "title: NASA to Hold Mars 2020 Perseverance Rover Launch Briefing\n",
      "preview: Learn more about the agency's next Red Planet mission during a live event on June 17.\n",
      "-------------\n",
      "-------------\n",
      "title: NASA Wins Two Emmy Awards for Interactive Mission Coverage\n",
      "preview: NASA-JPL's coverage of the Mars InSight landing earns one of the two wins, making this the NASA center's second Emmy.\n",
      "-------------\n",
      "-------------\n",
      "title: NASA's New Mars Rover Is Ready for Space Lasers\n",
      "preview: Perseverance is one of a few Mars spacecraft carrying laser retroreflectors. The devices could provide new science and safer Mars landings in the future.\n",
      "-------------\n",
      "-------------\n",
      "title: NASA's Curiosity Rover Finds an Ancient Oasis on Mars\n",
      "preview: New evidence suggests salty, shallow ponds once dotted a Martian crater — a sign of the planet's drying climate.\n",
      "-------------\n",
      "-------------\n",
      "title: NASA to Reveal Name of Its Next Mars Rover\n",
      "preview: After a months-long contest among students to name NASA's newest Mars rover, the agency will reveal the winning name — and the winning student — this Thursday. \n",
      "-------------\n",
      "-------------\n",
      "title: NASA's Perseverance Rover Attached to Atlas V Rocket\n",
      "preview: Ready for its launch later in the month, the Mars-bound rover will touch terra firma no more.\n",
      "-------------\n",
      "-------------\n",
      "title: NASA Invites Public to Share Excitement of Mars 2020 Perseverance Rover Launch\n",
      "preview: There are lots of ways to participate in the historic event, which is targeted for July 30.\n",
      "-------------\n",
      "-------------\n",
      "title: Mars Scientists Investigate Ancient Life in Australia\n",
      "preview: Teams with NASA's Mars 2020 and ESA's ExoMars practiced hunting for fossilized microbial life in the Australian Outback in preparation for their Red Planet missions. \n",
      "-------------\n",
      "-------------\n",
      "title: The Detective Aboard NASA's Perseverance Rover\n",
      "preview: An instrument called SHERLOC will, with the help of its partner WATSON, hunt for signs of ancient life by detecting organic molecules and minerals.\n",
      "-------------\n"
     ]
    }
   ],
   "source": [
    "for result in results:\n",
    "\n",
    "    # getting titles\n",
    "    titles = result.find('div', class_='content_title').text\n",
    "    # getting preview texts\n",
    "    preview = result.find('div', class_='article_teaser_body').text\n",
    "\n",
    "    title_list.append(titles)\n",
    "    preview_list.append(preview)\n",
    "\n",
    "    print('-------------')\n",
    "    print('title: ' + str(titles))\n",
    "    print('preview: ' + str(preview))\n",
    "    print('-------------')"
   ]
  },
  {
   "cell_type": "code",
   "execution_count": 16,
   "metadata": {},
   "outputs": [],
   "source": [
    "browser.quit()"
   ]
  },
  {
   "cell_type": "markdown",
   "metadata": {},
   "source": []
  }
 ],
 "metadata": {
  "kernelspec": {
   "display_name": "base",
   "language": "python",
   "name": "python3"
  },
  "language_info": {
   "codemirror_mode": {
    "name": "ipython",
    "version": 3
   },
   "file_extension": ".py",
   "mimetype": "text/x-python",
   "name": "python",
   "nbconvert_exporter": "python",
   "pygments_lexer": "ipython3",
   "version": "3.9.12"
  },
  "orig_nbformat": 4,
  "vscode": {
   "interpreter": {
    "hash": "07b261e4bb22682e44993513281a1802f582824f417ac2f2d13a5736398a1bd5"
   }
  }
 },
 "nbformat": 4,
 "nbformat_minor": 2
}
